{
 "cells": [
  {
   "cell_type": "code",
   "execution_count": 111,
   "metadata": {},
   "outputs": [],
   "source": [
    "from sympy import Symbol, Integral, solve\n",
    "import sympy as sp"
   ]
  },
  {
   "cell_type": "code",
   "execution_count": 112,
   "metadata": {},
   "outputs": [],
   "source": [
    "from matplotlib import pyplot as plt\n",
    "import numpy as np"
   ]
  },
  {
   "cell_type": "code",
   "execution_count": 113,
   "metadata": {},
   "outputs": [],
   "source": [
    "x = sp.Symbol('x')\n",
    "c1 = sp.Symbol('c1')\n",
    "c2 = sp.Symbol('c2')\n",
    "r=-0.84375 #cortante no ponto inicial!\n",
    "slope0=0.085946 #start\n",
    "deflection1=0 #end\n",
    "l=1000\n",
    "ei=666600\n",
    "q=-0.0010\n",
    "m0=-656.25 #momento no ponto inicial\n",
    "m_x=(-m0+r*x+q*x**2/2)/ei"
   ]
  },
  {
   "cell_type": "code",
   "execution_count": 114,
   "metadata": {},
   "outputs": [
    {
     "data": {
      "text/latex": [
       "$\\displaystyle c_{1} - 2.5002500250025 \\cdot 10^{-10} x^{3} - 6.32875787578758 \\cdot 10^{-7} x^{2} + 0.000984473447344734 x$"
      ],
      "text/plain": [
       "c1 - 2.5002500250025e-10*x**3 - 6.32875787578758e-7*x**2 + 0.000984473447344734*x"
      ]
     },
     "execution_count": 114,
     "metadata": {},
     "output_type": "execute_result"
    }
   ],
   "source": [
    "slope = Integral(m_x, x).doit()+c1\n",
    "slope"
   ]
  },
  {
   "cell_type": "code",
   "execution_count": 115,
   "metadata": {},
   "outputs": [
    {
     "data": {
      "text/latex": [
       "$\\displaystyle 1.0 c_{1} x + c_{2} - 6.25062506250625 \\cdot 10^{-11} x^{4} - 2.10958595859586 \\cdot 10^{-7} x^{3} + 0.000492236723672367 x^{2}$"
      ],
      "text/plain": [
       "1.0*c1*x + c2 - 6.25062506250625e-11*x**4 - 2.10958595859586e-7*x**3 + 0.000492236723672367*x**2"
      ]
     },
     "execution_count": 115,
     "metadata": {},
     "output_type": "execute_result"
    }
   ],
   "source": [
    "deflection = Integral(slope, x).doit()+c2\n",
    "deflection"
   ]
  },
  {
   "cell_type": "code",
   "execution_count": 116,
   "metadata": {},
   "outputs": [
    {
     "data": {
      "text/plain": [
       "[0.0859460000000000]"
      ]
     },
     "execution_count": 116,
     "metadata": {},
     "output_type": "execute_result"
    }
   ],
   "source": [
    "slope_value0 = slope.subs(x,0)\n",
    "value_c1 = solve(-slope_value0+slope0, c1)\n",
    "value_c1"
   ]
  },
  {
   "cell_type": "code",
   "execution_count": 117,
   "metadata": {},
   "outputs": [
    {
     "data": {
      "text/latex": [
       "$\\displaystyle - 2.5002500250025 \\cdot 10^{-10} x^{3} - 6.32875787578758 \\cdot 10^{-7} x^{2} + 0.000984473447344734 x + 0.085946$"
      ],
      "text/plain": [
       "-2.5002500250025e-10*x**3 - 6.32875787578758e-7*x**2 + 0.000984473447344734*x + 0.085946"
      ]
     },
     "execution_count": 117,
     "metadata": {},
     "output_type": "execute_result"
    }
   ],
   "source": [
    "slope = slope.subs(c1, value_c1[0])\n",
    "slope"
   ]
  },
  {
   "cell_type": "code",
   "execution_count": 118,
   "metadata": {},
   "outputs": [
    {
     "data": {
      "text/latex": [
       "$\\displaystyle c_{2} - 6.25062506250625 \\cdot 10^{-11} x^{4} - 2.10958595859586 \\cdot 10^{-7} x^{3} + 0.000492236723672367 x^{2} + 0.085946 x$"
      ],
      "text/plain": [
       "c2 - 6.25062506250625e-11*x**4 - 2.10958595859586e-7*x**3 + 0.000492236723672367*x**2 + 0.085946*x"
      ]
     },
     "execution_count": 118,
     "metadata": {},
     "output_type": "execute_result"
    }
   ],
   "source": [
    "deflection = deflection.subs(c1, value_c1[0])\n",
    "deflection"
   ]
  },
  {
   "cell_type": "code",
   "execution_count": 119,
   "metadata": {},
   "outputs": [
    {
     "data": {
      "text/plain": [
       "[-304.717877187719]"
      ]
     },
     "execution_count": 119,
     "metadata": {},
     "output_type": "execute_result"
    }
   ],
   "source": [
    "deflection_value1 = deflection.subs(x, l)\n",
    "value_c2 = solve(deflection_value1-deflection1, c2)\n",
    "value_c2"
   ]
  },
  {
   "cell_type": "code",
   "execution_count": 120,
   "metadata": {},
   "outputs": [
    {
     "data": {
      "text/latex": [
       "$\\displaystyle - 6.25062506250625 \\cdot 10^{-11} x^{4} - 2.10958595859586 \\cdot 10^{-7} x^{3} + 0.000492236723672367 x^{2} + 0.085946 x - 304.717877187719$"
      ],
      "text/plain": [
       "-6.25062506250625e-11*x**4 - 2.10958595859586e-7*x**3 + 0.000492236723672367*x**2 + 0.085946*x - 304.717877187719"
      ]
     },
     "execution_count": 120,
     "metadata": {},
     "output_type": "execute_result"
    }
   ],
   "source": [
    "deflection = deflection.subs(c2, value_c2[0])\n",
    "deflection"
   ]
  },
  {
   "cell_type": "code",
   "execution_count": 121,
   "metadata": {},
   "outputs": [
    {
     "data": {
      "text/latex": [
       "$\\displaystyle -168.962161416142$"
      ],
      "text/plain": [
       "-168.962161416142"
      ]
     },
     "execution_count": 121,
     "metadata": {},
     "output_type": "execute_result"
    }
   ],
   "source": [
    "deflection.subs(x, 500)"
   ]
  },
  {
   "cell_type": "code",
   "execution_count": 122,
   "metadata": {},
   "outputs": [
    {
     "data": {
      "text/latex": [
       "$\\displaystyle 0.388710651465147$"
      ],
      "text/plain": [
       "0.388710651465147"
      ]
     },
     "execution_count": 122,
     "metadata": {},
     "output_type": "execute_result"
    }
   ],
   "source": [
    "slope.subs(x,500)"
   ]
  },
  {
   "cell_type": "code",
   "execution_count": 123,
   "metadata": {},
   "outputs": [
    {
     "data": {
      "image/png": "[encoded data removed]",
      "text/plain": [
       "<Figure size 432x288 with 1 Axes>"
      ]
     },
     "metadata": {
      "needs_background": "light"
     },
     "output_type": "display_data"
    }
   ],
   "source": [
    "xs = np.linspace(1,1000,100)\n",
    "ys = []\n",
    "for i in xs:\n",
    "    ys.append(deflection.subs(x,i))\n",
    "plt.plot(xs, ys)\n",
    "plt.xlabel('x')\n",
    "plt.ylabel('y')\n",
    "plt.title('Flecha')\n",
    "plt.show()"
   ]
  },
  {
   "cell_type": "code",
   "execution_count": 124,
   "metadata": {},
   "outputs": [
    {
     "data": {
      "text/latex": [
       "$\\displaystyle - 0.001 x - 0.84375$"
      ],
      "text/plain": [
       "-0.001*x - 0.84375"
      ]
     },
     "execution_count": 124,
     "metadata": {},
     "output_type": "execute_result"
    }
   ],
   "source": [
    "shear = r + Integral(q, x).doit()\n",
    "shear"
   ]
  },
  {
   "cell_type": "code",
   "execution_count": 125,
   "metadata": {},
   "outputs": [
    {
     "name": "stdout",
     "output_type": "stream",
     "text": [
      "-0.843750000000000\n",
      "-1.84375000000000\n"
     ]
    }
   ],
   "source": [
    "print(shear.subs(x, 0))\n",
    "print(shear.subs(x, 1000))"
   ]
  },
  {
   "cell_type": "code",
   "execution_count": 126,
   "metadata": {},
   "outputs": [
    {
     "data": {
      "image/png": "[encoded data removed]",
      "text/plain": [
       "<Figure size 432x288 with 1 Axes>"
      ]
     },
     "metadata": {
      "needs_background": "light"
     },
     "output_type": "display_data"
    }
   ],
   "source": [
    "xs = np.linspace(1,1000,100)\n",
    "ys = []\n",
    "for i in xs:\n",
    "    ys.append(shear.subs(x,i))\n",
    "plt.plot(xs, ys)\n",
    "plt.xlabel('x')\n",
    "plt.ylabel('y')\n",
    "plt.title('Shear')\n",
    "plt.show()"
   ]
  },
  {
   "cell_type": "code",
   "execution_count": 127,
   "metadata": {},
   "outputs": [
    {
     "data": {
      "text/latex": [
       "$\\displaystyle 0.0005 x^{2} + 0.84375 x - 656.25$"
      ],
      "text/plain": [
       "0.0005*x**2 + 0.84375*x - 656.25"
      ]
     },
     "execution_count": 127,
     "metadata": {},
     "output_type": "execute_result"
    }
   ],
   "source": [
    "moment = m0 - Integral(shear,x).doit()\n",
    "moment"
   ]
  },
  {
   "cell_type": "code",
   "execution_count": 128,
   "metadata": {},
   "outputs": [
    {
     "name": "stdout",
     "output_type": "stream",
     "text": [
      "-656.250000000000\n",
      "687.500000000000\n"
     ]
    }
   ],
   "source": [
    "print(moment.subs(x, 0))\n",
    "print(moment.subs(x, 1000))"
   ]
  },
  {
   "cell_type": "code",
   "execution_count": 129,
   "metadata": {},
   "outputs": [
    {
     "data": {
      "image/png": "[encoded data removed]",
      "text/plain": [
       "<Figure size 432x288 with 1 Axes>"
      ]
     },
     "metadata": {
      "needs_background": "light"
     },
     "output_type": "display_data"
    }
   ],
   "source": [
    "xs = np.linspace(1,1000,100)\n",
    "ys = []\n",
    "for i in xs:\n",
    "    ys.append(moment.subs(x,i))\n",
    "plt.plot(xs, ys)\n",
    "plt.xlabel('x')\n",
    "plt.ylabel('y')\n",
    "plt.title('Moment')\n",
    "plt.show()"
   ]
  },
  {
   "cell_type": "code",
   "execution_count": null,
   "metadata": {},
   "outputs": [],
   "source": []
  }
 ],
 "metadata": {
  "kernelspec": {
   "display_name": "Python 3.7.4 64-bit",
   "language": "python",
   "name": "python37464bitc3678bc81dcb4d56a1318980c1dca2a0"
  },
  "language_info": {
   "codemirror_mode": {
    "name": "ipython",
    "version": 3
   },
   "file_extension": ".py",
   "mimetype": "text/x-python",
   "name": "python",
   "nbconvert_exporter": "python",
   "pygments_lexer": "ipython3",
   "version": "3.7.4"
  },
  "toc": {
   "base_numbering": 1,
   "nav_menu": {},
   "number_sections": true,
   "sideBar": true,
   "skip_h1_title": false,
   "title_cell": "Table of Contents",
   "title_sidebar": "Contents",
   "toc_cell": false,
   "toc_position": {},
   "toc_section_display": true,
   "toc_window_display": false
  }
 },
 "nbformat": 4,
 "nbformat_minor": 4
}
