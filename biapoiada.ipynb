{
 "cells": [
  {
   "cell_type": "code",
   "execution_count": 594,
   "metadata": {},
   "outputs": [],
   "source": [
    "from sympy import Symbol, Integral"
   ]
  },
  {
   "cell_type": "code",
   "execution_count": 595,
   "metadata": {},
   "outputs": [],
   "source": [
    "from matplotlib import pyplot as plt\n",
    "from scipy.integrate import odeint\n",
    "import numpy as np"
   ]
  },
  {
   "cell_type": "code",
   "execution_count": 596,
   "metadata": {},
   "outputs": [],
   "source": [
    "x = sp.Symbol('x')\n",
    "c1 = sp.Symbol('c1')\n",
    "c2 = sp.Symbol('c2')\n",
    "r=1.5\n",
    "slope0=0\n",
    "deflection1=0\n",
    "l=2000\n",
    "ei=666600\n",
    "q=-0.0010\n",
    "m0=1000\n",
    "m_x=(-m0+r*x+q*x**2/2)/ei"
   ]
  },
  {
   "cell_type": "code",
   "execution_count": 597,
   "metadata": {},
   "outputs": [
    {
     "data": {
      "text/latex": [
       "$\\displaystyle c_{1} - 2.5002500250025 \\cdot 10^{-10} x^{3} + 1.12511251125113 \\cdot 10^{-6} x^{2} - 0.0015001500150015 x$"
      ],
      "text/plain": [
       "c1 - 2.5002500250025e-10*x**3 + 1.12511251125113e-6*x**2 - 0.0015001500150015*x"
      ]
     },
     "execution_count": 597,
     "metadata": {},
     "output_type": "execute_result"
    }
   ],
   "source": [
    "slope = Integral(m_x, x).doit()+c1\n",
    "slope"
   ]
  },
  {
   "cell_type": "code",
   "execution_count": 598,
   "metadata": {},
   "outputs": [
    {
     "data": {
      "text/latex": [
       "$\\displaystyle 1.0 c_{1} x + c_{2} - 6.25062506250625 \\cdot 10^{-11} x^{4} + 3.75037503750375 \\cdot 10^{-7} x^{3} - 0.00075007500750075 x^{2}$"
      ],
      "text/plain": [
       "1.0*c1*x + c2 - 6.25062506250625e-11*x**4 + 3.75037503750375e-7*x**3 - 0.00075007500750075*x**2"
      ]
     },
     "execution_count": 598,
     "metadata": {},
     "output_type": "execute_result"
    }
   ],
   "source": [
    "deflection = Integral(slope, x).doit()+c2\n",
    "deflection"
   ]
  },
  {
   "cell_type": "code",
   "execution_count": 599,
   "metadata": {},
   "outputs": [
    {
     "data": {
      "text/plain": [
       "[0.500050005000500]"
      ]
     },
     "execution_count": 599,
     "metadata": {},
     "output_type": "execute_result"
    }
   ],
   "source": [
    "slope_value0 = slope.subs(x,l)\n",
    "value_c1 = solve(slope_value0-slope0, c1)\n",
    "value_c1"
   ]
  },
  {
   "cell_type": "code",
   "execution_count": 600,
   "metadata": {},
   "outputs": [
    {
     "data": {
      "text/latex": [
       "$\\displaystyle - 2.5002500250025 \\cdot 10^{-10} x^{3} + 1.12511251125113 \\cdot 10^{-6} x^{2} - 0.0015001500150015 x + 0.5000500050005$"
      ],
      "text/plain": [
       "-2.5002500250025e-10*x**3 + 1.12511251125113e-6*x**2 - 0.0015001500150015*x + 0.5000500050005"
      ]
     },
     "execution_count": 600,
     "metadata": {},
     "output_type": "execute_result"
    }
   ],
   "source": [
    "slope = slope.subs(c1, value_c1[0])\n",
    "slope"
   ]
  },
  {
   "cell_type": "code",
   "execution_count": 601,
   "metadata": {},
   "outputs": [
    {
     "data": {
      "text/latex": [
       "$\\displaystyle c_{2} - 6.25062506250625 \\cdot 10^{-11} x^{4} + 3.75037503750375 \\cdot 10^{-7} x^{3} - 0.00075007500750075 x^{2} + 0.5000500050005 x$"
      ],
      "text/plain": [
       "c2 - 6.25062506250625e-11*x**4 + 3.75037503750375e-7*x**3 - 0.00075007500750075*x**2 + 0.5000500050005*x"
      ]
     },
     "execution_count": 601,
     "metadata": {},
     "output_type": "execute_result"
    }
   ],
   "source": [
    "deflection = deflection.subs(c1, value_c1[0])\n",
    "deflection"
   ]
  },
  {
   "cell_type": "code",
   "execution_count": 602,
   "metadata": {},
   "outputs": [
    {
     "data": {
      "text/plain": [
       "[0]"
      ]
     },
     "execution_count": 602,
     "metadata": {},
     "output_type": "execute_result"
    }
   ],
   "source": [
    "deflection_value1 = deflection.subs(x, 0)\n",
    "value_c2 = solve(deflection_value1-deflection1, c2)\n",
    "value_c2"
   ]
  },
  {
   "cell_type": "code",
   "execution_count": 603,
   "metadata": {},
   "outputs": [
    {
     "data": {
      "text/latex": [
       "$\\displaystyle - 6.25062506250625 \\cdot 10^{-11} x^{4} + 3.75037503750375 \\cdot 10^{-7} x^{3} - 0.00075007500750075 x^{2} + 0.5000500050005 x$"
      ],
      "text/plain": [
       "-6.25062506250625e-11*x**4 + 3.75037503750375e-7*x**3 - 0.00075007500750075*x**2 + 0.5000500050005*x"
      ]
     },
     "execution_count": 603,
     "metadata": {},
     "output_type": "execute_result"
    }
   ],
   "source": [
    "deflection = deflection.subs(c2, value_c2[0])\n",
    "deflection"
   ]
  },
  {
   "cell_type": "code",
   "execution_count": 604,
   "metadata": {},
   "outputs": [
    {
     "data": {
      "text/latex": [
       "$\\displaystyle 0$"
      ],
      "text/plain": [
       "0"
      ]
     },
     "execution_count": 604,
     "metadata": {},
     "output_type": "execute_result"
    }
   ],
   "source": [
    "deflection.subs(x, 0)"
   ]
  },
  {
   "cell_type": "code",
   "execution_count": 605,
   "metadata": {},
   "outputs": [
    {
     "data": {
      "text/latex": [
       "$\\displaystyle 0.5000500050005$"
      ],
      "text/plain": [
       "0.500050005000500"
      ]
     },
     "execution_count": 605,
     "metadata": {},
     "output_type": "execute_result"
    }
   ],
   "source": [
    "slope.subs(x,0)"
   ]
  },
  {
   "cell_type": "code",
   "execution_count": 606,
   "metadata": {},
   "outputs": [
    {
     "data": {
      "image/png": "[encoded data removed]",
      "text/plain": [
       "<Figure size 432x288 with 1 Axes>"
      ]
     },
     "metadata": {
      "needs_background": "light"
     },
     "output_type": "display_data"
    }
   ],
   "source": [
    "xs = np.linspace(1,2000,100)\n",
    "ys = []\n",
    "for i in xs:\n",
    "    ys.append(deflection.subs(x,i))\n",
    "plt.plot(xs, ys)\n",
    "plt.xlabel('x')\n",
    "plt.ylabel('y')\n",
    "plt.title('Flecha')\n",
    "plt.show()"
   ]
  },
  {
   "cell_type": "code",
   "execution_count": null,
   "metadata": {},
   "outputs": [],
   "source": []
  }
 ],
 "metadata": {
  "kernelspec": {
   "display_name": "Python 3.7.4 64-bit",
   "language": "python",
   "name": "python37464bitc3678bc81dcb4d56a1318980c1dca2a0"
  },
  "language_info": {
   "codemirror_mode": {
    "name": "ipython",
    "version": 3
   },
   "file_extension": ".py",
   "mimetype": "text/x-python",
   "name": "python",
   "nbconvert_exporter": "python",
   "pygments_lexer": "ipython3",
   "version": "3.7.4"
  },
  "toc": {
   "base_numbering": 1,
   "nav_menu": {},
   "number_sections": true,
   "sideBar": true,
   "skip_h1_title": false,
   "title_cell": "Table of Contents",
   "title_sidebar": "Contents",
   "toc_cell": false,
   "toc_position": {},
   "toc_section_display": true,
   "toc_window_display": false
  }
 },
 "nbformat": 4,
 "nbformat_minor": 4
}
